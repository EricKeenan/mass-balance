{
 "cells": [
  {
   "cell_type": "code",
   "execution_count": 1,
   "metadata": {},
   "outputs": [],
   "source": [
    "import numpy as np\n",
    "import pandas as pd\n",
    "import pickle\n",
    "from matplotlib import pyplot as plt\n",
    "from sklearn.ensemble import RandomForestRegressor\n",
    "from scipy import stats\n",
    "from sklearn.tree import export_graphviz\n",
    "import pydot"
   ]
  },
  {
   "cell_type": "markdown",
   "metadata": {},
   "source": [
    "# Open Model"
   ]
  },
  {
   "cell_type": "code",
   "execution_count": 2,
   "metadata": {},
   "outputs": [],
   "source": [
    "with open(\"rf_model.pkl\",\"rb\") as f:\n",
    "    rf_model = pickle.load(f)\n",
    "\n",
    "feature_list = [\"Mean Temperature\", \"0-91 Day Temperature\", \"Mean Precip\", \"0-91 Day Precip\", \"91-180 Day Precip\", \"180-365 Day Precip\", \"365-730 Day Precip\", \"Date Sine\", \"Date Cosine\", \"RF SMB Ratio\"]"
   ]
  },
  {
   "cell_type": "markdown",
   "metadata": {},
   "source": [
    "# Save a decision tree (very slow)"
   ]
  },
  {
   "cell_type": "code",
   "execution_count": 3,
   "metadata": {},
   "outputs": [],
   "source": [
    "# tree = rf_model.estimators_[5]\n",
    "\n",
    "# # Export the image to a dot file\n",
    "# export_graphviz(tree, out_file='tree.dot', feature_names=feature_list, rounded=True, precision=1)\n",
    "\n",
    "# # Use dot file to create a graph\n",
    "# (graph, ) = pydot.graph_from_dot_file('tree.dot')\n",
    "\n",
    "# # Write graph to a png file\n",
    "# graph.write_png('tree.png')"
   ]
  },
  {
   "cell_type": "markdown",
   "metadata": {},
   "source": [
    "# Variable importance"
   ]
  },
  {
   "cell_type": "code",
   "execution_count": 4,
   "metadata": {},
   "outputs": [
    {
     "name": "stdout",
     "output_type": "stream",
     "text": [
      "Feature: 0-91 Day Precip      Importance: 0.49\n",
      "Feature: Mean Precip          Importance: 0.23\n",
      "Feature: 0-91 Day Temperature Importance: 0.05\n",
      "Feature: 91-180 Day Precip    Importance: 0.04\n",
      "Feature: 180-365 Day Precip   Importance: 0.04\n",
      "Feature: 365-730 Day Precip   Importance: 0.04\n",
      "Feature: Date Sine            Importance: 0.03\n",
      "Feature: Date Cosine          Importance: 0.03\n",
      "Feature: RF SMB Ratio         Importance: 0.03\n",
      "Feature: Mean Temperature     Importance: 0.02\n"
     ]
    }
   ],
   "source": [
    "# Get numerical feature importances\n",
    "importances = list(rf_model.feature_importances_)\n",
    "\n",
    "# List of tuples with variable and importance\n",
    "feature_importances = [(feature, round(importance, 2)) for feature, importance in zip(feature_list, importances)]\n",
    "\n",
    "# Sort the feature importances by most important first\n",
    "feature_importances = sorted(feature_importances, key = lambda x: x[1], reverse = True)\n",
    "\n",
    "# Print out the feature and importances \n",
    "[print('Feature: {:20} Importance: {}'.format(*pair)) for pair in feature_importances];"
   ]
  },
  {
   "cell_type": "code",
   "execution_count": null,
   "metadata": {},
   "outputs": [],
   "source": []
  }
 ],
 "metadata": {
  "kernelspec": {
   "display_name": "esem",
   "language": "python",
   "name": "esem"
  },
  "language_info": {
   "codemirror_mode": {
    "name": "ipython",
    "version": 3
   },
   "file_extension": ".py",
   "mimetype": "text/x-python",
   "name": "python",
   "nbconvert_exporter": "python",
   "pygments_lexer": "ipython3",
   "version": "3.7.11"
  }
 },
 "nbformat": 4,
 "nbformat_minor": 4
}
