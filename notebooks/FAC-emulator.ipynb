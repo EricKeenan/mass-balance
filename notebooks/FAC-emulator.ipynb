{
 "cells": [
  {
   "cell_type": "code",
   "execution_count": 1,
   "metadata": {},
   "outputs": [],
   "source": [
    "import numpy as np\n",
    "import pandas as pd\n",
    "import pickle\n",
    "from matplotlib import pyplot as plt\n",
    "from sklearn.ensemble import RandomForestRegressor\n",
    "from scipy import stats\n",
    "import glob"
   ]
  },
  {
   "cell_type": "markdown",
   "metadata": {},
   "source": [
    "# Load dataset"
   ]
  },
  {
   "cell_type": "code",
   "execution_count": 2,
   "metadata": {},
   "outputs": [],
   "source": [
    "filenames = glob.glob(\"*training_data/*train.npy\")\n",
    "train = np.array([np.load(fname) for fname in filenames])\n",
    "train = train.reshape(train.shape[1]*train.shape[0], train.shape[2])\n",
    "np.random.shuffle(train)"
   ]
  },
  {
   "cell_type": "code",
   "execution_count": 3,
   "metadata": {},
   "outputs": [
    {
     "name": "stdout",
     "output_type": "stream",
     "text": [
      "(12800112,)\n",
      "(12800112, 9)\n"
     ]
    }
   ],
   "source": [
    "Y = train[:, 0]\n",
    "X = train[:, 1:]\n",
    "print(Y.shape)\n",
    "print(X.shape)"
   ]
  },
  {
   "cell_type": "code",
   "execution_count": 4,
   "metadata": {},
   "outputs": [
    {
     "name": "stdout",
     "output_type": "stream",
     "text": [
      "6400056\n",
      "6400056\n"
     ]
    }
   ],
   "source": [
    "# Define training and test inds\n",
    "n_train = int(Y.shape[0] * 0.5) # 80 % training\n",
    "training_inds = np.arange(0, n_train)\n",
    "testing_inds = np.arange(n_train, len(Y))\n",
    "n_test = len(testing_inds)\n",
    "\n",
    "print(n_train)\n",
    "print(n_test)"
   ]
  },
  {
   "cell_type": "markdown",
   "metadata": {},
   "source": [
    "# Add noise. Probably don't need to add noise to the date. But I should add different noise to temperature and precip"
   ]
  },
  {
   "cell_type": "code",
   "execution_count": 5,
   "metadata": {},
   "outputs": [
    {
     "name": "stdout",
     "output_type": "stream",
     "text": [
      "\n",
      "0\n",
      "1\n",
      "\n",
      "2\n",
      "3\n",
      "4\n",
      "5\n",
      "6\n"
     ]
    }
   ],
   "source": [
    "X_noise = np.copy(X)\n",
    "add_noise = True\n",
    "\n",
    "if add_noise:\n",
    "    # Temperature (mu = 0.5 degrees)\n",
    "    print()\n",
    "    for j in range(0, X.shape[1] - 7):\n",
    "        print(j)\n",
    "        mu  = 0\n",
    "        sigma = 0.5\n",
    "        noise = np.random.normal(mu, sigma, X.shape[0])\n",
    "        X_noise[:, j] += noise\n",
    "\n",
    "    # Precip (mu = 5 percent)\n",
    "    print()\n",
    "    for j in range(2, X.shape[1] - 2):\n",
    "        print(j)\n",
    "        mu  = np.repeat(0, X.shape[0])\n",
    "        sigma = X[:, j] / 20\n",
    "        noise = np.random.normal(mu, sigma)\n",
    "        X_noise[:, j] += noise"
   ]
  },
  {
   "cell_type": "markdown",
   "metadata": {},
   "source": [
    "# Define training and testing data sets"
   ]
  },
  {
   "cell_type": "code",
   "execution_count": 6,
   "metadata": {},
   "outputs": [],
   "source": [
    "# Train\n",
    "X_train = X_noise[training_inds, :]\n",
    "Y_train = Y[training_inds]\n",
    "\n",
    "# Test\n",
    "X_test = X[testing_inds, :]"
   ]
  },
  {
   "cell_type": "markdown",
   "metadata": {},
   "source": [
    "# Train model"
   ]
  },
  {
   "cell_type": "code",
   "execution_count": null,
   "metadata": {},
   "outputs": [],
   "source": [
    "%%time\n",
    "rf_model = RandomForestRegressor(n_jobs=64, n_estimators=100)\n",
    "rf_model.fit(X_train, Y_train)"
   ]
  },
  {
   "cell_type": "markdown",
   "metadata": {},
   "source": [
    "# Save model"
   ]
  },
  {
   "cell_type": "code",
   "execution_count": null,
   "metadata": {},
   "outputs": [],
   "source": [
    "# The sklearn model is held internally in the esem model\n",
    "with open(\"rf_model.pkl\",\"wb\") as f:\n",
    "    pickle.dump(rf_model, f)"
   ]
  },
  {
   "cell_type": "markdown",
   "metadata": {},
   "source": [
    "# Inference"
   ]
  },
  {
   "cell_type": "code",
   "execution_count": null,
   "metadata": {},
   "outputs": [],
   "source": [
    "%%time\n",
    "Y_rf_test = rf_model.predict(X_test)"
   ]
  },
  {
   "cell_type": "markdown",
   "metadata": {},
   "source": [
    "# Perform analysis"
   ]
  },
  {
   "cell_type": "code",
   "execution_count": null,
   "metadata": {},
   "outputs": [],
   "source": [
    "x_1_to_1 = np.array([-9999, 9999])\n",
    "y_1_to_1 = np.array([-9999, 9999])"
   ]
  },
  {
   "cell_type": "code",
   "execution_count": null,
   "metadata": {},
   "outputs": [],
   "source": [
    "def calc_rmse(predictions, targets):\n",
    "    return np.sqrt(((predictions - targets) ** 2).mean())\n",
    "\n",
    "def calc_bias(predictions, targets):\n",
    "    return (predictions - targets).mean()"
   ]
  },
  {
   "cell_type": "code",
   "execution_count": null,
   "metadata": {},
   "outputs": [],
   "source": [
    "# Random Forest \n",
    "x = Y[testing_inds] * 100 # Truth (cm)\n",
    "y = Y_rf_test * 100 # Prediction (cm)\n",
    "lin_reg = stats.linregress(x, y)\n",
    "rmse = calc_rmse(y, x)\n",
    "bias = calc_bias(y, x)\n",
    "\n",
    "# Limit\n",
    "lim = np.max([np.abs(x).max(), np.abs(y).max()])\n",
    "\n",
    "plt.figure(figsize=(9, 7))\n",
    "plt.xlim([-lim, lim])\n",
    "plt.ylim([-lim, lim])\n",
    "plt.hexbin(x, y, extent=(-lim, lim, -lim, lim), cmap=plt.cm.Blues, bins='log', gridsize=(40, 40))\n",
    "cb = plt.colorbar()\n",
    "cb.set_label(\"Count\", fontsize=22)\n",
    "cb.ax.tick_params(labelsize=20) \n",
    "plt.plot(x_1_to_1, lin_reg.intercept + lin_reg.slope*x_1_to_1, 'r', label='fitted line', linewidth=2)\n",
    "plt.plot(x_1_to_1, y_1_to_1, 'k--', linewidth=2)\n",
    "plt.grid()\n",
    "plt.xlabel(\"SNOWPACK: 91 day FAC change [cm]\", fontsize=20)\n",
    "plt.ylabel(\"ML: 91 day FAC change [cm]\", fontsize=20)\n",
    "plt.xticks(fontsize=16)\n",
    "plt.yticks(fontsize=16)\n",
    "plt.title(\"Slope = \" + str(lin_reg.slope) + \\\n",
    "          \"\\nR^2 = \" + str(lin_reg.rvalue**2) + \\\n",
    "          \",\\np = \" + str(lin_reg.pvalue) + \\\n",
    "          \",\\nRMSE = \" + str(rmse) + \\\n",
    "          \",\\nBias = \" + str(bias) + \\\n",
    "          \",\\nN = \" + str(n_test) + \\\n",
    "          \",\\nX-axis Mean Magnitude = \" + str(np.abs(x).mean()),\n",
    "         fontsize=20)"
   ]
  },
  {
   "cell_type": "code",
   "execution_count": null,
   "metadata": {},
   "outputs": [],
   "source": [
    "diff = y - x\n",
    "limit = np.abs(diff).max()\n",
    "print(limit)\n",
    "\n",
    "# Histogram\n",
    "plt.figure(figsize=(7, 5))\n",
    "plt.hist(diff, bins=75)\n",
    "plt.grid()\n",
    "plt.xlim([-limit, limit])\n",
    "plt.xlabel(\"ML predicted FAC change error [cm]\", fontsize=20)\n",
    "plt.ylabel(\"Count\", fontsize=20)\n",
    "plt.xticks(fontsize=16)\n",
    "plt.yticks(fontsize=16)"
   ]
  }
 ],
 "metadata": {
  "kernelspec": {
   "display_name": "esem",
   "language": "python",
   "name": "esem"
  },
  "language_info": {
   "codemirror_mode": {
    "name": "ipython",
    "version": 3
   },
   "file_extension": ".py",
   "mimetype": "text/x-python",
   "name": "python",
   "nbconvert_exporter": "python",
   "pygments_lexer": "ipython3",
   "version": "3.7.11"
  }
 },
 "nbformat": 4,
 "nbformat_minor": 4
}
