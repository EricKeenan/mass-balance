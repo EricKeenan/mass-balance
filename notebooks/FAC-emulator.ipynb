{
 "cells": [
  {
   "cell_type": "code",
   "execution_count": 1,
   "metadata": {},
   "outputs": [
    {
     "name": "stderr",
     "output_type": "stream",
     "text": [
      "2022-02-24 11:19:27.338097: W tensorflow/stream_executor/platform/default/dso_loader.cc:64] Could not load dynamic library 'libcudart.so.11.0'; dlerror: libcudart.so.11.0: cannot open shared object file: No such file or directory\n",
      "2022-02-24 11:19:27.338132: I tensorflow/stream_executor/cuda/cudart_stub.cc:29] Ignore above cudart dlerror if you do not have a GPU set up on your machine.\n"
     ]
    }
   ],
   "source": [
    "import numpy as np\n",
    "import pandas as pd\n",
    "import pickle\n",
    "from matplotlib import pyplot as plt\n",
    "from esem import rf_model, gp_model\n",
    "from scipy import stats"
   ]
  },
  {
   "cell_type": "markdown",
   "metadata": {},
   "source": [
    "# Load dataset"
   ]
  },
  {
   "cell_type": "code",
   "execution_count": 2,
   "metadata": {},
   "outputs": [
    {
     "name": "stdout",
     "output_type": "stream",
     "text": [
      "(1005906,)\n",
      "(1005906, 6)\n"
     ]
    }
   ],
   "source": [
    "train = np.loadtxt(\"train.txt\")\n",
    "Y = train[:, 0]\n",
    "X = train[:, 1:] # 1: for all, 1:7 for no date features.\n",
    "print(Y.shape)\n",
    "print(X.shape)"
   ]
  },
  {
   "cell_type": "code",
   "execution_count": 3,
   "metadata": {},
   "outputs": [
    {
     "name": "stdout",
     "output_type": "stream",
     "text": [
      "804724\n",
      "201182\n"
     ]
    }
   ],
   "source": [
    "# Define training and test inds\n",
    "n_train = int(Y.shape[0] * 0.8) # 80 % training\n",
    "training_inds = np.arange(0, n_train)\n",
    "testing_inds = np.arange(n_train, len(Y))\n",
    "n_test = len(testing_inds)\n",
    "\n",
    "print(n_train)\n",
    "print(n_test)"
   ]
  },
  {
   "cell_type": "markdown",
   "metadata": {},
   "source": [
    "# Define training data set"
   ]
  },
  {
   "cell_type": "code",
   "execution_count": 4,
   "metadata": {},
   "outputs": [],
   "source": [
    "X_train = X[training_inds, :]\n",
    "Y_train = Y[training_inds]"
   ]
  },
  {
   "cell_type": "markdown",
   "metadata": {},
   "source": [
    "# Train model"
   ]
  },
  {
   "cell_type": "code",
   "execution_count": null,
   "metadata": {},
   "outputs": [
    {
     "name": "stderr",
     "output_type": "stream",
     "text": [
      "2022-02-24 11:19:44.020362: W tensorflow/stream_executor/platform/default/dso_loader.cc:64] Could not load dynamic library 'libcuda.so.1'; dlerror: libcuda.so.1: cannot open shared object file: No such file or directory\n",
      "2022-02-24 11:19:44.020401: W tensorflow/stream_executor/cuda/cuda_driver.cc:269] failed call to cuInit: UNKNOWN ERROR (303)\n",
      "2022-02-24 11:19:44.020424: I tensorflow/stream_executor/cuda/cuda_diagnostics.cc:156] kernel driver does not appear to be running on this host (shas0319.rc.int.colorado.edu): /proc/driver/nvidia/version does not exist\n",
      "2022-02-24 11:19:44.021108: I tensorflow/core/platform/cpu_feature_guard.cc:151] This TensorFlow binary is optimized with oneAPI Deep Neural Network Library (oneDNN) to use the following CPU instructions in performance-critical operations:  AVX2 FMA\n",
      "To enable them in other operations, rebuild TensorFlow with the appropriate compiler flags.\n",
      "/projects/erke2265/software/anaconda/envs/esem/lib/python3.7/site-packages/esem/model_adaptor.py:46: DataConversionWarning: A column-vector y was passed when a 1d array was expected. Please change the shape of y to (n_samples,), for example using ravel().\n",
      "  self.model.fit(X=training_params, y=training_data, **kwargs)\n"
     ]
    }
   ],
   "source": [
    "%%time\n",
    "# RF model\n",
    "rf_model = rf_model(X_train, Y_train) # Default\n",
    "# rf_model = rf_model(X_train, Y_train, n_estimators=200) # No significant improvement over default.\n",
    "rf_model.train()\n",
    "\n",
    "# GP model (can't get it to work)\n",
    "# rf_model = gp_model(X_train, Y_train, kernel=['White'])\n",
    "# rf_model.train()"
   ]
  },
  {
   "cell_type": "markdown",
   "metadata": {},
   "source": [
    "# Save model"
   ]
  },
  {
   "cell_type": "code",
   "execution_count": null,
   "metadata": {},
   "outputs": [],
   "source": [
    "# # The sklearn model is held internally in the esem model\n",
    "# with open(\"rf_model.pkl\",\"wb\") as f:\n",
    "#     pickle.dump(rf_model.model.model, f)"
   ]
  },
  {
   "cell_type": "markdown",
   "metadata": {},
   "source": [
    "# Define testing data set"
   ]
  },
  {
   "cell_type": "code",
   "execution_count": null,
   "metadata": {},
   "outputs": [],
   "source": [
    "X_test = X[testing_inds, :]"
   ]
  },
  {
   "cell_type": "markdown",
   "metadata": {},
   "source": [
    "# Inference"
   ]
  },
  {
   "cell_type": "code",
   "execution_count": null,
   "metadata": {},
   "outputs": [],
   "source": [
    "%%time\n",
    "Y_rf_test = rf_model.predict(X_test)[0]"
   ]
  },
  {
   "cell_type": "markdown",
   "metadata": {},
   "source": [
    "# Perform analysis"
   ]
  },
  {
   "cell_type": "code",
   "execution_count": null,
   "metadata": {},
   "outputs": [],
   "source": [
    "x_1_to_1 = [-9999, 9999]\n",
    "y_1_to_1 = [-9999, 9999]"
   ]
  },
  {
   "cell_type": "code",
   "execution_count": null,
   "metadata": {},
   "outputs": [],
   "source": [
    "def calc_rmse(predictions, targets):\n",
    "    return np.sqrt(((predictions - targets) ** 2).mean())\n",
    "\n",
    "def calc_bias(predictions, targets):\n",
    "    return (predictions - targets).mean()"
   ]
  },
  {
   "cell_type": "code",
   "execution_count": null,
   "metadata": {},
   "outputs": [],
   "source": [
    "# Random Forest \n",
    "x = Y[testing_inds] * 100 # Truth (cm)\n",
    "y = Y_rf_test * 100 # Prediction (cm)\n",
    "lin_reg = stats.linregress(x, y)\n",
    "rmse = calc_rmse(y, x)\n",
    "bias = calc_bias(y, x)\n",
    "\n",
    "# Limit\n",
    "lim = np.max([np.abs(x).max(), np.abs(y).max()])\n",
    "\n",
    "plt.figure(figsize=(9, 7))\n",
    "plt.hexbin(x, y, extent=(-lim, lim, -lim, lim), cmap=plt.cm.Blues, bins='log', gridsize=(40, 40))\n",
    "plt.xlim([-lim, lim])\n",
    "plt.ylim([-lim, lim])\n",
    "cb = plt.colorbar()\n",
    "cb.set_label(\"Count\", fontsize=22)\n",
    "cb.ax.tick_params(labelsize=20) \n",
    "plt.plot(x, lin_reg.intercept + lin_reg.slope*x, 'r', label='fitted line', linewidth=3)\n",
    "plt.plot(x_1_to_1, y_1_to_1, 'k--', linewidth=2)\n",
    "plt.grid()\n",
    "plt.xlabel(\"SNOWPACK: 91 day FAC change [cm]\", fontsize=20)\n",
    "plt.ylabel(\"ML: 91 day FAC change [cm]\", fontsize=20)\n",
    "plt.xticks(fontsize=16)\n",
    "plt.yticks(fontsize=16)\n",
    "plt.title(\"Slope = \" + str(lin_reg.slope) + \\\n",
    "          \"\\nR^2 = \" + str(lin_reg.rvalue**2) + \\\n",
    "          \",\\np = \" + str(lin_reg.pvalue) + \\\n",
    "          \",\\nRMSE = \" + str(rmse) + \\\n",
    "          \",\\nBias = \" + str(bias) + \\\n",
    "          \",\\nN = \" + str(n_test) + \\\n",
    "          \",\\nX-axis Mean Magnitude = \" + str(np.abs(x).mean()),\n",
    "         fontsize=20)"
   ]
  },
  {
   "cell_type": "code",
   "execution_count": null,
   "metadata": {},
   "outputs": [],
   "source": [
    "diff = y - x\n",
    "limit = np.abs(diff).max()\n",
    "print(limit)\n",
    "\n",
    "# Histogram\n",
    "plt.figure(figsize=(7, 5))\n",
    "plt.hist(diff, bins=75)\n",
    "plt.grid()\n",
    "plt.xlim([-limit, limit])\n",
    "plt.xlabel(\"ML predicted FAC change error [cm]\", fontsize=20)\n",
    "plt.ylabel(\"Count\", fontsize=20)\n",
    "plt.xticks(fontsize=16)\n",
    "plt.yticks(fontsize=16)"
   ]
  },
  {
   "cell_type": "code",
   "execution_count": null,
   "metadata": {},
   "outputs": [],
   "source": []
  }
 ],
 "metadata": {
  "kernelspec": {
   "display_name": "esem",
   "language": "python",
   "name": "esem"
  },
  "language_info": {
   "codemirror_mode": {
    "name": "ipython",
    "version": 3
   },
   "file_extension": ".py",
   "mimetype": "text/x-python",
   "name": "python",
   "nbconvert_exporter": "python",
   "pygments_lexer": "ipython3",
   "version": "3.7.11"
  }
 },
 "nbformat": 4,
 "nbformat_minor": 4
}
