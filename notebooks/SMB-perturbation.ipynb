{
 "cells": [
  {
   "cell_type": "code",
   "execution_count": 1,
   "metadata": {},
   "outputs": [],
   "source": [
    "import numpy as np\n",
    "import matplotlib.pyplot as plt\n",
    "import xarray as xr\n",
    "\n",
    "import pyproj\n",
    "from pyproj import Geod\n",
    "from pyproj import Proj, transform\n",
    "from fiona.crs import from_epsg\n",
    "from osgeo import osr\n",
    "from scipy import interpolate"
   ]
  },
  {
   "cell_type": "markdown",
   "metadata": {},
   "source": [
    "# First create a dataset of M2 smb climate"
   ]
  },
  {
   "cell_type": "code",
   "execution_count": 2,
   "metadata": {},
   "outputs": [],
   "source": [
    "# ds = xr.open_dataset(\"/scratch/summit/erke2265/surface-height-change/data/M2_1980-2020_daily_SMB.nc\")\n",
    "# M2_smb_climate = ds[\"__xarray_dataarray_variable__\"].sum(dim='time') / (2020 - 1980 + 1)\n",
    "# M2_smb_climate.rename(new_name_or_name_dict=\"Annual-mean-SMB\")\n",
    "# M2_smb_climate.to_netcdf(\"M2_annual-mean-SMB.nc\")"
   ]
  },
  {
   "cell_type": "markdown",
   "metadata": {},
   "source": [
    "# Copy Brooke RF from petalib to scratch"
   ]
  },
  {
   "cell_type": "code",
   "execution_count": 3,
   "metadata": {},
   "outputs": [],
   "source": [
    "# !cp /pl/active/nasa_smb/Data/RF_Snow_Red_prelim.nc RF_Snow_Red_prelim.nc"
   ]
  },
  {
   "cell_type": "markdown",
   "metadata": {},
   "source": [
    "# Function to Random forest SMB ratio"
   ]
  },
  {
   "cell_type": "code",
   "execution_count": 4,
   "metadata": {},
   "outputs": [],
   "source": [
    "# Function to convert lat/lon to epsg3031\n",
    "def lat_lon_to_epsg3031(tgt_lat, tgt_lon):\n",
    "    \n",
    "    # Source and target EPSG\n",
    "    src = osr.SpatialReference()\n",
    "    tgt = osr.SpatialReference()\n",
    "    src.ImportFromEPSG(4326) # WGS-84\n",
    "    tgt.ImportFromEPSG(3031) # South Polar Stereo\n",
    "    \n",
    "    # Define transformation\n",
    "    transform = osr.CoordinateTransformation(src, tgt)\n",
    "    \n",
    "    # Perform transformation\n",
    "    coords = transform.TransformPoint(tgt_lat, tgt_lon)\n",
    "    tgt_x, tgt_y = coords[0:2]\n",
    "    \n",
    "    return tgt_x, tgt_y\n",
    "\n",
    "# Function to get ratio at lat/lon\n",
    "def get_RF_M2_ratio(tgt_lat, tgt_lon):\n",
    "    \n",
    "    # Get M2 SMB at lat/lon\n",
    "    M2_smb = xr.open_dataset(\"M2_annual-mean-SMB.nc\")\n",
    "    M2_smb = M2_smb['__xarray_dataarray_variable__']\n",
    "    M2_smb = M2_smb.sel(lat=tgt_lat, lon=tgt_lon, method='nearest').values\n",
    "    \n",
    "    # Get RF at lat/lon\n",
    "    tgt_x, tgt_y = lat_lon_to_epsg3031(tgt_lat, tgt_lon)\n",
    "    M2_RF = xr.open_dataset(\"RF_Snow_Red_prelim.nc\")\n",
    "    M2_RF = M2_RF['IS2_opt'].sel(x=tgt_x, y=tgt_y, method='nearest').values\n",
    "    \n",
    "    # Get ratio\n",
    "    RF_ratio = (M2_RF + M2_smb) / M2_smb\n",
    "    \n",
    "    # Print info\n",
    "    print(\"Random Forest Ratio: \" + str(RF_ratio))\n",
    "    print(\"MERRA-2 SMB [mm/yr]: \" + str(M2_smb))\n",
    "    print(\"Random Forest Perturbation [mm/yr]: \" + str(M2_RF))\n",
    "    \n",
    "    return RF_ratio, M2_smb, M2_RF\n"
   ]
  },
  {
   "cell_type": "markdown",
   "metadata": {},
   "source": [
    "# Test"
   ]
  },
  {
   "cell_type": "code",
   "execution_count": 5,
   "metadata": {},
   "outputs": [
    {
     "name": "stdout",
     "output_type": "stream",
     "text": [
      "Random Forest Ratio: 1.3134992510986843\n",
      "MERRA-2 SMB [mm/yr]: 55.05298\n",
      "Random Forest Perturbation [mm/yr]: 17.25906753540039\n",
      "CPU times: user 25.2 ms, sys: 5.6 ms, total: 30.8 ms\n",
      "Wall time: 92.2 ms\n"
     ]
    }
   ],
   "source": [
    "%%time\n",
    "tgt_lat = -75\n",
    "tgt_lon = 90\n",
    "RF_ratio, M2_smb, M2_RF = get_RF_M2_ratio(tgt_lat, tgt_lon)"
   ]
  }
 ],
 "metadata": {
  "kernelspec": {
   "display_name": "alpine3d",
   "language": "python",
   "name": "alpine3d"
  },
  "language_info": {
   "codemirror_mode": {
    "name": "ipython",
    "version": 3
   },
   "file_extension": ".py",
   "mimetype": "text/x-python",
   "name": "python",
   "nbconvert_exporter": "python",
   "pygments_lexer": "ipython3",
   "version": "3.6.10"
  }
 },
 "nbformat": 4,
 "nbformat_minor": 4
}
