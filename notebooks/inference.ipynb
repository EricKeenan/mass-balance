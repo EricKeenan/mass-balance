{
 "cells": [
  {
   "cell_type": "code",
   "execution_count": 1,
   "metadata": {},
   "outputs": [],
   "source": [
    "import numpy as np\n",
    "import pandas as pd\n",
    "import pickle\n",
    "from matplotlib import pyplot as plt\n",
    "from sklearn.ensemble import RandomForestRegressor\n",
    "from scipy import stats"
   ]
  },
  {
   "cell_type": "markdown",
   "metadata": {},
   "source": [
    "# Open model"
   ]
  },
  {
   "cell_type": "code",
   "execution_count": 2,
   "metadata": {},
   "outputs": [],
   "source": [
    "with open(\"rf_model.pkl\",\"rb\") as f:\n",
    "    rf_model = pickle.load(f)"
   ]
  },
  {
   "cell_type": "markdown",
   "metadata": {},
   "source": [
    "# Load inference data set"
   ]
  },
  {
   "cell_type": "code",
   "execution_count": 3,
   "metadata": {},
   "outputs": [
    {
     "name": "stdout",
     "output_type": "stream",
     "text": [
      "(22977621, 6)\n"
     ]
    }
   ],
   "source": [
    "X = np.load(\"inference.npy\")\n",
    "print(X.shape)"
   ]
  },
  {
   "cell_type": "markdown",
   "metadata": {},
   "source": [
    "# Run deterministic inference"
   ]
  },
  {
   "cell_type": "code",
   "execution_count": 4,
   "metadata": {},
   "outputs": [
    {
     "name": "stdout",
     "output_type": "stream",
     "text": [
      "(22977621,)\n",
      "0.042711584303944054\n",
      "CPU times: user 1min 54s, sys: 2.88 s, total: 1min 57s\n",
      "Wall time: 3.7 s\n"
     ]
    }
   ],
   "source": [
    "%%time\n",
    "\n",
    "# Inference\n",
    "Y = rf_model.predict(X) # Units: m\n",
    "print(Y.shape)\n",
    "print(Y.mean())\n",
    "\n",
    "# # Set values with NaN features to NaN\n",
    "# indices_nan = np.array([])\n",
    "# for j in range(0, X.shape[0]):\n",
    "#     if np.isnan(X[j,:]).any():\n",
    "#         indices_nan = np.append(indices_nan, j)\n",
    "#         Y[j] = np.nan\n",
    "\n",
    "# Save\n",
    "np.save(\"2020_Inference_Y.npy\", Y)"
   ]
  },
  {
   "cell_type": "markdown",
   "metadata": {},
   "source": [
    "# Get result from 1 tree"
   ]
  },
  {
   "cell_type": "code",
   "execution_count": 5,
   "metadata": {},
   "outputs": [],
   "source": [
    "# trees = rf_model.estimators_\n",
    "# Y = trees[5].predict(X) # Units: m\n",
    "# np.savetxt(\"Inference_Y.txt\", Y)"
   ]
  },
  {
   "cell_type": "markdown",
   "metadata": {},
   "source": [
    "# Run ensemble inference"
   ]
  },
  {
   "cell_type": "code",
   "execution_count": 6,
   "metadata": {},
   "outputs": [
    {
     "name": "stdout",
     "output_type": "stream",
     "text": [
      "0\n",
      "1\n",
      "2\n",
      "3\n",
      "4\n",
      "5\n",
      "6\n",
      "7\n",
      "8\n",
      "9\n",
      "10\n",
      "11\n",
      "12\n",
      "13\n",
      "14\n",
      "15\n",
      "16\n",
      "17\n",
      "18\n",
      "19\n",
      "20\n",
      "21\n",
      "22\n",
      "23\n",
      "24\n",
      "25\n",
      "26\n",
      "27\n",
      "28\n",
      "29\n",
      "30\n",
      "31\n",
      "32\n",
      "33\n",
      "34\n",
      "35\n",
      "36\n",
      "37\n",
      "38\n",
      "39\n",
      "40\n",
      "41\n",
      "42\n",
      "43\n",
      "44\n",
      "45\n",
      "46\n",
      "47\n",
      "48\n",
      "49\n",
      "50\n",
      "51\n",
      "52\n",
      "53\n",
      "54\n",
      "55\n",
      "56\n",
      "57\n",
      "58\n",
      "59\n",
      "60\n",
      "61\n",
      "62\n",
      "63\n",
      "64\n",
      "65\n",
      "66\n",
      "67\n",
      "68\n",
      "69\n",
      "70\n",
      "71\n",
      "72\n",
      "73\n",
      "74\n",
      "75\n",
      "76\n",
      "77\n",
      "78\n",
      "79\n",
      "80\n",
      "81\n",
      "82\n",
      "83\n",
      "84\n",
      "85\n",
      "86\n",
      "87\n",
      "88\n",
      "89\n",
      "90\n",
      "91\n",
      "92\n",
      "93\n",
      "94\n",
      "95\n",
      "96\n",
      "97\n",
      "98\n",
      "99\n"
     ]
    },
    {
     "data": {
      "image/png": "[encoded data removed]",
      "text/plain": [
       "<Figure size 432x288 with 1 Axes>"
      ]
     },
     "metadata": {
      "needs_background": "light"
     },
     "output_type": "display_data"
    },
    {
     "data": {
      "image/png": "[encoded data removed]",
      "text/plain": [
       "<Figure size 432x288 with 1 Axes>"
      ]
     },
     "metadata": {
      "needs_background": "light"
     },
     "output_type": "display_data"
    }
   ],
   "source": [
    "# Number of ensemble members\n",
    "n = 100\n",
    "inference_ensemble = np.zeros([X.shape[0], n]); inference_ensemble[:] = np.nan\n",
    "precip_factor = np.zeros([n]); precip_factor[:] = np.nan\n",
    "temperature_offset = np.zeros([n]); temperature_offset[:] = np.nan\n",
    "\n",
    "# Loop over each ensemble member\n",
    "for j in range(0, n):\n",
    "    \n",
    "    # Determine perturbation\n",
    "    random = np.random.normal(0, 1)\n",
    "    precip_factor[j] = 1 + (0.2 * random)\n",
    "    temperature_offset[j] = 3.1 * random\n",
    "    print(j)\n",
    "    \n",
    "    # Apply perurbation\n",
    "    X_member = np.copy(X)\n",
    "    X_member[:, 0] += temperature_offset[j]\n",
    "    X_member[:, 1] = (X[:, 1] * X[:, 0] + temperature_offset[j]) / X_member[:, 0]\n",
    "    X_member[:, 2] *= precip_factor[j]\n",
    "    X_member[:, 3] = (X[:, 3] * X[:, 2] * precip_factor[j]) / X_member[:, 2]\n",
    "    X_member[:, 4] = (X[:, 4] * X[:, 2] * precip_factor[j]) / X_member[:, 2]\n",
    "    X_member[:, 5] = (X[:, 5] * X[:, 2] * precip_factor[j]) / X_member[:, 2]\n",
    "    \n",
    "    # Perform inference\n",
    "    inference_ensemble[:, j] = rf_model.predict(X_member) # Units: m\n",
    "\n",
    "# Plot scatter plot of perturbations\n",
    "plt.figure()\n",
    "plt.scatter(temperature_offset, precip_factor)\n",
    "\n",
    "# Plot distribution of solutions\n",
    "plt.figure()\n",
    "plt.hist(inference_ensemble[10000000, :])\n",
    "\n",
    "# Save inference ensemble\n",
    "np.save(\"2020_Inference_Y_ensemble.npy\", inference_ensemble)"
   ]
  },
  {
   "cell_type": "code",
   "execution_count": null,
   "metadata": {},
   "outputs": [],
   "source": []
  }
 ],
 "metadata": {
  "kernelspec": {
   "display_name": "esem",
   "language": "python",
   "name": "esem"
  },
  "language_info": {
   "codemirror_mode": {
    "name": "ipython",
    "version": 3
   },
   "file_extension": ".py",
   "mimetype": "text/x-python",
   "name": "python",
   "nbconvert_exporter": "python",
   "pygments_lexer": "ipython3",
   "version": "3.7.11"
  }
 },
 "nbformat": 4,
 "nbformat_minor": 4
}
